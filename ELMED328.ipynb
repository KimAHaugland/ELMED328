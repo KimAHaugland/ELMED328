{
 "cells": [
  {
   "cell_type": "code",
   "execution_count": 9,
   "id": "57916960",
   "metadata": {},
   "outputs": [],
   "source": [
    "import pandas as pd\n",
    "import numpy as np\n",
    "from scipy.integrate import odeint\n",
    "import matplotlib.pyplot as plt\n",
    "\n",
    "%matplotlib inline\n",
    "#%matplotlib notebook\n",
    "from ipywidgets import interact, interactive, fixed, interact_manual, Layout\n",
    "import ipywidgets as widgets\n",
    "\n"
   ]
  },
  {
   "cell_type": "markdown",
   "id": "0bc7197c",
   "metadata": {},
   "source": [
    "## Very Simple Epidemic (SI)\n",
    " \n",
    " \n",
    " * $\\color{blue} S$ - Susceptible\n",
    " * $\\color{red} I$ - Infectious\n",
    " \n",
    " \n",
    " \n",
    "We will now consider a very simple epidemic in a closed population (a closed population means that the total number of people in the population is fixed).\n",
    "\n",
    "We only have two compartments: S (susceptible) and I (infectious). This means that once someone is infected, they are infectious for life.\n",
    "\n",
    "We will consider the case where the population size N is 10 000 people, and look at the evolution of the epidemic over 160 days.\n",
    "\n",
    "Run the code below and you will see a graph detailing the evolution for a variable amount of initial infectives I(0) and transmission rate beta.\n"
   ]
  },
  {
   "cell_type": "code",
   "execution_count": 10,
   "id": "1aaa7ac1",
   "metadata": {},
   "outputs": [
    {
     "data": {
      "application/vnd.jupyter.widget-view+json": {
       "model_id": "bd041462501a41d880ceb0753272effc",
       "version_major": 2,
       "version_minor": 0
      },
      "text/plain": [
       "interactive(children=(Dropdown(description='I(0):', index=1, options=(0, 1, 100, 1000), value=1), FloatSlider(…"
      ]
     },
     "metadata": {},
     "output_type": "display_data"
    }
   ],
   "source": [
    "N=10000\n",
    "days = range(0, 160)\n",
    "\n",
    "mylayout =Layout(width='10cm')\n",
    "\n",
    "# The SI model \n",
    "def derivI(state, t, N, beta):\n",
    "    I = state\n",
    "    dIdt = beta * (N-I) * I / N \n",
    "    return dIdt\n",
    "\n",
    "\n",
    "\n",
    "def g(I0,r):\n",
    "    #r=effective_contact_rate\n",
    "    susceptible = N - I0\n",
    "    ret = odeint(derivI, I0,days,\n",
    "             args=(N, r))\n",
    "    \n",
    "    I = ret.T[0,:]\n",
    "    df = pd.DataFrame({\n",
    "        'susceptible': N - I,\n",
    "        'infectious': I,\n",
    "         'day': days})\n",
    "    \n",
    "    df.plot(x='day',\n",
    "            y=['infectious', 'susceptible'],\n",
    "            color=['#bb6424', '#aac6ca'],\n",
    "             );\n",
    "    plt.show()\n",
    "    dayP='inf';\n",
    "    if (r>0) and (I0>0):\n",
    "        dayP = np.ceil(np.log(0.9/0.1*(N-I0)/I0)/r);\n",
    "        dayP=np.int32(dayP)\n",
    "    print('days before 90% of the populaton is infected = ', dayP);\n",
    "    print('number of infective after 10 days = %.2f  ' % I[10]);\n",
    "    #print('days before 90% of the populaton are infected =',nd()np.argmax((np.round(I)>0.9*total_pop)));\n",
    "    #return df.round(2);\n",
    "\n",
    "    \n",
    "interact(g, I0=widgets.Dropdown(\n",
    "                options=[0, 1, 100, 1000],\n",
    "                value=1,\n",
    "                description='I(0):',\n",
    "                disabled=False,),\n",
    "             r=widgets.FloatSlider(min=0, max=1, step=0.1, value=0.1, description='beta:',\n",
    "                                  continuous_update=False,layout=mylayout,readout=True, readout_format='.1f'));\n",
    "    \n",
    "    \n",
    "#     I0=widgets.FloatSlider(min=0, max=1000, step=1, value=1, description='I(0):',\n",
    "#       continuous_update=False,layout=mylayout,readout=True, readout_format='5d'),\n",
    "#\n",
    "\n",
    "\n",
    "\n",
    "\n"
   ]
  },
  {
   "cell_type": "markdown",
   "id": "4b46032a",
   "metadata": {},
   "source": [
    "### Question 1: \n",
    "What are the values for I(0) and $\\beta$ where the entire population doesn't end up infected after 160 days? Why do you think these values are as they are?"
   ]
  },
  {
   "cell_type": "markdown",
   "id": "a163d203",
   "metadata": {},
   "source": [
    "### Question 2: \n",
    "Assume the exponential growth $$I(t) = I(0)\\, e^{\\beta t},$$ \n",
    "\n",
    "and calculate the number of infected after 10 days for all the different values of I(0) and $\\beta = 0.1, 0.3, 0.5, 0,7$ and compare the output of the code with the calculations below (just alter the corresponding numbers in the code below and hit \"run\"). Do you think this equation models the epidemic well? Why/why not?"
   ]
  },
  {
   "cell_type": "code",
   "execution_count": 11,
   "id": "8090bcaa",
   "metadata": {},
   "outputs": [
    {
     "data": {
      "text/plain": [
       "2.718281828459045"
      ]
     },
     "execution_count": 11,
     "metadata": {},
     "output_type": "execute_result"
    }
   ],
   "source": [
    "1*np.exp(0.1*10)\n"
   ]
  },
  {
   "cell_type": "markdown",
   "id": "2429381b",
   "metadata": {},
   "source": [
    "# Simple Epidemic (SIS)\n",
    " \n",
    " \n",
    " * $\\color{blue} S$ - Susceptible\n",
    " * $\\color{red} I$ - Infectious\n",
    " \n",
    " \n",
    " \n",
    "We will now consider a SIS epidemic. Meaning that we still only have 2 compartments (susceptible and infectious), but now people can recover and no longer be infectious. However, they gain no immunity from this and go back to the susceptible compartment.\n",
    "\n",
    "We consider the situation with N = 10 000 over 160 days as previously, but we now also assume a recovery rate $\\gamma = 0.25$, meaning it takes on average 4 days for an infected person not to be infectious anymore. Since we now have a recovery rate as well as a transmission rate, we can now use the basic reproduction number $R_0 = \\beta\\,/\\gamma$ (contact rate $\\times$ transmission $/$ recovery rate).\n",
    "\n",
    "Run the code below and you can see the evolution of the epidemic for varying levels of I(0), $\\gamma$ and $R_0$."
   ]
  },
  {
   "cell_type": "code",
   "execution_count": 12,
   "id": "eed7a911",
   "metadata": {
    "scrolled": true
   },
   "outputs": [
    {
     "data": {
      "application/vnd.jupyter.widget-view+json": {
       "model_id": "a0fe086f8a314b32a24ce0996abbcf2b",
       "version_major": 2,
       "version_minor": 0
      },
      "text/plain": [
       "interactive(children=(Dropdown(description='I(0):', index=1, options=(0, 1, 100, 1000), value=1), Dropdown(des…"
      ]
     },
     "metadata": {},
     "output_type": "display_data"
    }
   ],
   "source": [
    "# The SIS model \n",
    "\n",
    "gamma=1/4;\n",
    "def derivSIS(state, t, N, beta, gamma):\n",
    "    I = state\n",
    "    dIdt = beta * (N-I) * I / N - gamma*I \n",
    "    return dIdt\n",
    "\n",
    "\n",
    "def g(I0,gamma,R0):\n",
    "    beta=R0*gamma;\n",
    "    #beta=effective_contact_rate\n",
    "    ret = odeint(derivSIS, I0,days,\n",
    "             args=(N, beta,gamma))\n",
    "    \n",
    "    I = ret.T[0,:]\n",
    "    df = pd.DataFrame({\n",
    "        'susceptible': N - I,\n",
    "        'infectious': I,\n",
    "         'day': days})\n",
    "    \n",
    "    df.plot(x='day',\n",
    "            y=['infectious', 'susceptible'],\n",
    "            color=['#bb6424', '#aac6ca'],\n",
    "             );\n",
    "    plt.show()\n",
    "    dayP='inf';\n",
    "#         dayP = np.ceil(np.log(0.9/0.1*(N-I0)/I0)/r);\n",
    "#         dayP=np.int32(dayP)\n",
    "#     print('days before 90% of the populaton is infected = ', dayP);\n",
    "#    print('Steady states: I=0, I=',(1-gamma/beta)*N)\n",
    "#    print('number of infected after 10 days = %.2f  ' % I[10]);\n",
    "    #print('days before 90% of the populaton are infected =',nd()np.argmax((np.round(I)>0.9*total_pop)));\n",
    "    #return df.round(2);\n",
    "\n",
    "    \n",
    "interact(g, I0=widgets.Dropdown(\n",
    "                options=[0, 1, 100, 1000],\n",
    "                value=1,\n",
    "                description='I(0):',\n",
    "                disabled=False,),\n",
    "            gamma=widgets.Dropdown(\n",
    "                options=[0.1, 0.25, 0.5],\n",
    "                value=0.25,\n",
    "                description='gamma:',\n",
    "                disabled=False,),\n",
    "             R0=widgets.FloatSlider(min=0.6, max=4., step=0.2, value=1.8, description='R0:',\n",
    "                                  continuous_update=False,layout=mylayout,readout=True, readout_format='.1f'));\n",
    "    \n",
    "    \n",
    "#     I0=widgets.FloatSlider(min=0, max=1000, step=1, value=1, description='I(0):',\n",
    "#       continuous_update=False,layout=mylayout,readout=True, readout_format='5d'),\n",
    "#\n",
    "\n",
    "\n"
   ]
  },
  {
   "cell_type": "markdown",
   "id": "49567c49-0582-4aa3-b4eb-7e6ddc61a719",
   "metadata": {},
   "source": [
    "### Question 3:\n",
    "For what values of I(0), $\\gamma$ and $R_0$ will the entire population be infectious after 160 days? Why do you think these values are as they are?"
   ]
  },
  {
   "cell_type": "markdown",
   "id": "1939c5af-561b-4941-8fd0-4e4c9d5a3620",
   "metadata": {
    "tags": []
   },
   "source": [
    "### Question 4:\n",
    "Assuming we have 1000 people initially infected and it takes on average 10 days for a person not to be infectious anymore, what is the minimum value of the transmission rate $\\beta$ that makes it so the epidemic completely dies out? (Hint: recall the definition of $R_0$)"
   ]
  },
  {
   "cell_type": "markdown",
   "id": "8db9d87c",
   "metadata": {},
   "source": [
    "# SIR-Model\n",
    " \n",
    " \n",
    " * $\\color{blue} S$ - Susceptible\n",
    " * $\\color{red} I$ - Infectious\n",
    " * $\\color{green} R$ - Recovered/Removed\n",
    " \n",
    " \n",
    " Keeping the same population and timespan as above, we now allow for people who recovered to be immune to further infection. We assume that everyone infected recovers with 100% immunity.\n",
    " Run the code below and you can see the evolution of the epidemic for varying levels of I(0), $\\gamma$ and $R_0$.\n",
    " "
   ]
  },
  {
   "cell_type": "code",
   "execution_count": 13,
   "id": "9def1662",
   "metadata": {},
   "outputs": [
    {
     "data": {
      "application/vnd.jupyter.widget-view+json": {
       "model_id": "4b4ad2940d764252b8dd048d96dbe673",
       "version_major": 2,
       "version_minor": 0
      },
      "text/plain": [
       "interactive(children=(Dropdown(description='I(0):', index=1, options=(0, 1, 100, 1000), value=1), Dropdown(des…"
      ]
     },
     "metadata": {},
     "output_type": "display_data"
    }
   ],
   "source": [
    "# The SIR model differential equations.\n",
    "\n",
    "N=10000\n",
    "gamma=1/4;\n",
    "days = range(0, 160)\n",
    "\n",
    "def deriv(state, t, N, beta, gamma):\n",
    "    S, I, R = state\n",
    "    # Change in S population over time\n",
    "    dSdt = -beta * S * I / N\n",
    "    # Change in I population over time\n",
    "    dIdt = beta * S * I / N - gamma * I\n",
    "    # Change in R population over time\n",
    "    dRdt = gamma * I\n",
    "    return dSdt, dIdt, dRdt\n",
    "\n",
    "\n",
    "mylayout =Layout(width='10cm')\n",
    "\n",
    "def g(I0,gamma,R0):\n",
    "    beta=R0*gamma;\n",
    "    S0 = N - I0\n",
    "    ret = odeint(deriv, [S0, I0, 0],\n",
    "             days,\n",
    "             args=(N, beta, gamma))\n",
    "    \n",
    "    S, I, R = ret.T\n",
    "    \n",
    "    df = pd.DataFrame({\n",
    "    'susceptible': S,\n",
    "    'infectious': I,\n",
    "    'recovered': R,\n",
    "    'day': days})\n",
    "    \n",
    "    df.plot(x='day',\n",
    "            y=['infectious', 'susceptible', 'recovered'],\n",
    "            color=['#bb6424', '#aac6ca', '#cc8ac0'],\n",
    "             );\n",
    "    plt.show()\n",
    "    \n",
    "    print('max number of infected =',np.max(I));\n",
    "\n",
    " \n",
    "interact(g, I0=widgets.Dropdown(\n",
    "                options=[0, 1, 100, 1000],\n",
    "                value=1,\n",
    "                description='I(0):',\n",
    "                disabled=False,),\n",
    "            gamma=widgets.Dropdown(\n",
    "                options=[0.1, 0.25, 0.5],\n",
    "                value=0.25,\n",
    "                description='gamma:',\n",
    "                disabled=False,),\n",
    "             R0=widgets.FloatSlider(min=0.8, max=4., step=0.1, value=1.8, description='R0:',\n",
    "                                  continuous_update=False,layout=mylayout,readout=True, readout_format='.1f'));\n",
    "    \n",
    "    \n",
    "\n",
    "# interact(g, r=widgets.FloatSlider(min=0, max=5, step=0.1, value=0.5, description='eff.contact rate:',\n",
    "#                                   continuous_update=False,layout=mylayout,readout=True, readout_format='.1f',),\n",
    "#             b=widgets.FloatSlider(min=0, max=1, step=0.01, value=0.25, description='recovery rate:',\n",
    "#                                   continuous_update=False,layout=mylayout,readout=True, readout_format='.2f',));\n",
    "    \n",
    "\n",
    "\n",
    "\n",
    "# If you get the error:\n",
    "#\n",
    "#     When stacked is True, each column must be either all\n",
    "#     positive or negative.infected contains both...\n",
    "#\n",
    "# just change stacked=True to stacked=False"
   ]
  },
  {
   "cell_type": "markdown",
   "id": "581e9d2d-d858-471f-aa07-f3eea335d390",
   "metadata": {},
   "source": [
    "### Question 5: \n",
    "What is the maximum possible number of infectives at any one time in this model? Roughly how long does it take for this peak to be reached?"
   ]
  },
  {
   "cell_type": "markdown",
   "id": "ba5056de",
   "metadata": {},
   "source": [
    "### Question 6: \n",
    "Let the recovery rate $\\gamma = 0.25$ and let ther only be one person initially infected.\n",
    "What value of $R_0>1$ will keep the maximum number of infectives below 1600? What is then the corresponding $\\beta$?"
   ]
  },
  {
   "cell_type": "markdown",
   "id": "6804ad92-4315-4666-b787-f5ea893c013e",
   "metadata": {},
   "source": [
    "### Question 7:\n",
    "The hospitals in this population are concerned that even 1600 infectives will be too much for them to handle at once: they need the maximum number of infectives to be under 1000, and have tasked the government with implementing measures to reduce $R_0$ suffciently. How much do we need to reduce $\\beta$ to accomplish this?\n",
    "\n",
    "Roughly when will the maximum number of infectives be reached in this situation, and how many days after this peak does it take for the epidemic to completely die out?"
   ]
  },
  {
   "cell_type": "markdown",
   "id": "28cdafe7-c7e8-4249-af25-b9e93d64a5f3",
   "metadata": {},
   "source": [
    "## SIR-Model with vaccinations\n",
    "\n",
    "\n",
    " * $\\color{blue} S$ - Susceptible\n",
    " * $\\color{red} I$ - Infectious\n",
    " * $\\color{green} R$ - Recovered/Removed\n",
    " \n",
    " Now we look at a SIR model with vaccination. We assume that a epidemic with $R_0 = 2$ has been going on for a while, and that there are a certain amount of people infected before we start vaccination. By default, we assume that 100 people have been infected, and at that point we vaccinate 60% of the susceptible population, and that the vaccine has a 70% effectiveness (note that the vaccination rate and the vaccine effectiveness are given as rates rather than percentages in the code).\n",
    " \n",
    " Note that we vaccinate everyone at once (day 0 in our model). \n",
    " Run the code below to see the results."
   ]
  },
  {
   "cell_type": "code",
   "execution_count": 17,
   "id": "23ddfacd-3667-42e8-90f2-a4310850037b",
   "metadata": {},
   "outputs": [
    {
     "data": {
      "application/vnd.jupyter.widget-view+json": {
       "model_id": "e0fa65adb2364540afc46bd5e0ed513a",
       "version_major": 2,
       "version_minor": 0
      },
      "text/plain": [
       "interactive(children=(Dropdown(description='I(0):', options=(100, 500, 1000, 2000, 3000), value=100), Dropdown…"
      ]
     },
     "metadata": {},
     "output_type": "display_data"
    },
    {
     "data": {
      "text/plain": [
       "<function __main__.g(I0, r, e, beta, gamma)>"
      ]
     },
     "execution_count": 17,
     "metadata": {},
     "output_type": "execute_result"
    }
   ],
   "source": [
    "# The SIR model differential equations with vaccination\n",
    "\n",
    "N=10000\n",
    "r = 0.6\n",
    "e = 0.7\n",
    "gamma = 0.25\n",
    "beta = 0.5\n",
    "days = range(0, 160)\n",
    "\n",
    "def deriv(state, t, N, beta, gamma, r, e):\n",
    "    S, I, R = state\n",
    "    # Change in S population over time\n",
    "    dSdt = -beta * S * I / N\n",
    "    # Change in I population over time\n",
    "    dIdt = beta * S * I / N - gamma * I\n",
    "    # Change in R population over time\n",
    "    dRdt = gamma * I\n",
    "    return dSdt, dIdt, dRdt\n",
    "\n",
    "\n",
    "mylayout =Layout(width='10cm')\n",
    "\n",
    "def g(I0,r,e,beta,gamma):\n",
    "    R0 = r*e*(N - I0)\n",
    "    S0 = N - I0 - R0\n",
    "    ret = odeint(deriv, [S0, I0, R0],\n",
    "             days,\n",
    "             args=(N, beta, gamma, r, e))\n",
    "    \n",
    "    S, I, R = ret.T\n",
    "    \n",
    "    df = pd.DataFrame({\n",
    "    'susceptible': S,\n",
    "    'infectious': I,\n",
    "    'recovered': R,\n",
    "    'day': days})\n",
    "    \n",
    "    df.plot(x='day',\n",
    "            y=['infectious', 'susceptible', 'recovered'],\n",
    "            color=['#bb6424', '#aac6ca', '#cc8ac0'],\n",
    "             );\n",
    "    plt.show()\n",
    "    \n",
    "    print('Total number of infected =',np.max(R)-R0);\n",
    "\n",
    " \n",
    "interact(g, beta=fixed(0.5), gamma=fixed(0.25), I0=widgets.Dropdown(\n",
    "                options=[100, 500, 1000, 2000, 3000],\n",
    "                value=100,\n",
    "                description='I(0):',\n",
    "                disabled=False,),\n",
    "             r=widgets.Dropdown(\n",
    "                options=[0, 0.1, 0.2, 0.3, 0.4, 0.5, 0.6, 0.7, 0.8, 0.9, 1],\n",
    "                value=0.6,\n",
    "                description='Vac.rate:',\n",
    "                disabled=False,),\n",
    "             e=widgets.Dropdown(\n",
    "                options=[0, 0.1, 0.2, 0.3, 0.4, 0.5, 0.6, 0.7, 0.8, 0.9, 1],\n",
    "                value=0.7,\n",
    "                description='Vac.effectiveness:',\n",
    "                disabled=False,))\n",
    "\n",
    "# If you get the error:\n",
    "#\n",
    "#     When stacked is True, each column must be either all\n",
    "#     positive or negative.infected contains both...\n",
    "#\n",
    "# just change stacked=True to stacked=False"
   ]
  },
  {
   "cell_type": "markdown",
   "id": "3cc875ed-6b55-4b31-a983-6065141fbb0d",
   "metadata": {
    "tags": []
   },
   "source": [
    "### Question 8: \n",
    "Assume that 1000 people are infectious on the day we start the vaccinations. At the end of the 160 days, how many people have gotten sick in the following scenarios:\n",
    "\n",
    "1. 70% of susceptible people get vaccinated, and the vaccine has a 100% effectiveness.\n",
    "\n",
    "2. The vaccine has 100% effectiveness, but a wave of anti-vaccination propaganda has frightened some people away from getting it. In this case, only 50% of susceptible people get vaccinated.\n",
    "\n",
    "3. Consider the previous two scenarios, but the vaccine now only has a 60% effectiveness."
   ]
  }
 ],
 "metadata": {
  "hide_input": false,
  "kernelspec": {
   "display_name": "Python 3 (ipykernel)",
   "language": "python",
   "name": "python3"
  },
  "language_info": {
   "codemirror_mode": {
    "name": "ipython",
    "version": 3
   },
   "file_extension": ".py",
   "mimetype": "text/x-python",
   "name": "python",
   "nbconvert_exporter": "python",
   "pygments_lexer": "ipython3",
   "version": "3.9.7"
  },
  "varInspector": {
   "cols": {
    "lenName": 16,
    "lenType": 16,
    "lenVar": 40
   },
   "kernels_config": {
    "python": {
     "delete_cmd_postfix": "",
     "delete_cmd_prefix": "del ",
     "library": "var_list.py",
     "varRefreshCmd": "print(var_dic_list())"
    },
    "r": {
     "delete_cmd_postfix": ") ",
     "delete_cmd_prefix": "rm(",
     "library": "var_list.r",
     "varRefreshCmd": "cat(var_dic_list()) "
    }
   },
   "types_to_exclude": [
    "module",
    "function",
    "builtin_function_or_method",
    "instance",
    "_Feature"
   ],
   "window_display": false
  }
 },
 "nbformat": 4,
 "nbformat_minor": 5
}
